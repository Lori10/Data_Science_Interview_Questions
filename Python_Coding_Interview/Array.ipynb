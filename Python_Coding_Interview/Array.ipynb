{
 "cells": [
  {
   "cell_type": "markdown",
   "id": "f63434db",
   "metadata": {},
   "source": [
    "### - Write a function to sort the elements in a list"
   ]
  },
  {
   "cell_type": "code",
   "execution_count": 18,
   "id": "e011b54d",
   "metadata": {},
   "outputs": [
    {
     "data": {
      "text/plain": [
       "[5, 3, 2, 1]"
      ]
     },
     "execution_count": 18,
     "metadata": {},
     "output_type": "execute_result"
    }
   ],
   "source": [
    "# without a new list/variable\n",
    "vector = [1, 5, 2, 3]\n",
    "\n",
    "for i in range(0, len(vector)):\n",
    "    for j in range(i, len(vector)):\n",
    "        if vector[i] < vector[j]: # > to sort in ascending order\n",
    "            tmp = vector[i]\n",
    "            vector[i] = vector[j]\n",
    "            vector[j] = tmp\n",
    "            \n",
    "vector"
   ]
  },
  {
   "cell_type": "code",
   "execution_count": 33,
   "id": "fc06813d",
   "metadata": {},
   "outputs": [
    {
     "name": "stdout",
     "output_type": "stream",
     "text": [
      "[1, 2, 3, 5]\n"
     ]
    }
   ],
   "source": [
    "# with new list/variable (MIN)\n",
    "\n",
    "vector = [1, 5, 2, 3]\n",
    "new_vector = []\n",
    "\n",
    "for i in range(0, len(vector)):\n",
    "    mini = vector[0]\n",
    "    for j in range(0, len(vector)):\n",
    "        if vector[j] < mini:\n",
    "            mini = vector[j]\n",
    "\n",
    "    vector.remove(mini)\n",
    "    new_vector.append(mini)\n",
    "\n",
    "print(new_vector)\n"
   ]
  },
  {
   "cell_type": "code",
   "execution_count": 35,
   "id": "b56707fc",
   "metadata": {},
   "outputs": [
    {
     "name": "stdout",
     "output_type": "stream",
     "text": [
      "[5, 3, 2, 1]\n"
     ]
    }
   ],
   "source": [
    "# with new list/variable (MAX)\n",
    "\n",
    "vector = [1, 5, 2, 3]\n",
    "new_vector = []\n",
    "\n",
    "for i in range(0, len(vector)):\n",
    "    maxi = vector[0]\n",
    "    for j in range(0, len(vector)):\n",
    "        if vector[j] > maxi:\n",
    "            maxi = vector[j]\n",
    "    \n",
    "    vector.remove(maxi)\n",
    "    new_vector.append(maxi)\n",
    "\n",
    "print(new_vector)"
   ]
  },
  {
   "cell_type": "markdown",
   "id": "4d843962",
   "metadata": {},
   "source": [
    "### Print list in reverse"
   ]
  },
  {
   "cell_type": "code",
   "execution_count": 46,
   "id": "975fb197",
   "metadata": {},
   "outputs": [
    {
     "data": {
      "text/plain": [
       "[3, 2, 5, 1]"
      ]
     },
     "execution_count": 46,
     "metadata": {},
     "output_type": "execute_result"
    }
   ],
   "source": [
    "li = [1, 5, 2, 3]\n",
    "\n",
    "[li[i] for i in range(len(li)-1, -1, -1)]"
   ]
  },
  {
   "cell_type": "markdown",
   "id": "9aecd691",
   "metadata": {},
   "source": [
    "### - You have an array of integers of length n spanning 00 to nn with one missing. Write a function missing_number that returns the missing number in the array."
   ]
  },
  {
   "cell_type": "code",
   "execution_count": 3,
   "id": "11c6e351",
   "metadata": {},
   "outputs": [
    {
     "data": {
      "text/plain": [
       "3"
      ]
     },
     "execution_count": 3,
     "metadata": {},
     "output_type": "execute_result"
    }
   ],
   "source": [
    "nums = [0,1,2,4,5] \n",
    "\n",
    "\n",
    "def missing_number(nums):\n",
    "    for i in range(len(nums)):\n",
    "        if i != nums[i]:\n",
    "            return i\n",
    "        \n",
    "missing_number(nums)\n",
    "\n",
    "\n",
    "#missing_number(nums) -> 3"
   ]
  },
  {
   "cell_type": "markdown",
   "id": "98013d72",
   "metadata": {},
   "source": [
    "### - You’re given numlists, a list where each element is a list of at least five numbers. Write a function list_fifths that returns a list of the fifth-largest number from each element in numlists. Return the list in ascending order."
   ]
  },
  {
   "cell_type": "code",
   "execution_count": 5,
   "id": "ecf01aab",
   "metadata": {},
   "outputs": [],
   "source": [
    "numlists = [ [1,2,3,4,5], [3,1,2,5,4], [1,2,3,4,5,6,7], \n",
    "[99, 320, 400, 100.25, 55.2, 0.1] ]"
   ]
  },
  {
   "cell_type": "code",
   "execution_count": 10,
   "id": "b74c5708",
   "metadata": {},
   "outputs": [
    {
     "data": {
      "text/plain": [
       "[1, 1, 3, 55.2]"
      ]
     },
     "execution_count": 10,
     "metadata": {},
     "output_type": "execute_result"
    }
   ],
   "source": [
    "def list_fifths(numlists):\n",
    "\n",
    "    li_maxi = []\n",
    "    for li in numlists:\n",
    "        li.sort(reverse=True)\n",
    "        maxi = li[4]\n",
    "        li_maxi.append(maxi)\n",
    "\n",
    "    return li_maxi\n",
    "\n",
    "list_fifths(numlists)"
   ]
  },
  {
   "cell_type": "markdown",
   "id": "d9adb0f9",
   "metadata": {},
   "source": [
    "### -  Given a list of integers, and an integer N, write a function sum_to_n find all combinations that sum to the value N."
   ]
  },
  {
   "cell_type": "code",
   "execution_count": 97,
   "id": "d7fe041c",
   "metadata": {},
   "outputs": [],
   "source": [
    "lists = [\n",
    "[1,2,3,4,5,6],\n",
    "[2,5,7,8],\n",
    "[3,9,10,12],\n",
    "[0,1,2,8]]\n",
    "\n",
    "li2 = lists[0]\n",
    "len_li2 = len(li2)-1\n",
    "\n",
    "for i in range(len(lists)-1):\n",
    "    \n",
    "    li1 = lists[i+1]\n",
    "\n",
    "    for i in range(len(li1)):\n",
    "\n",
    "        for j in range(len_li2):\n",
    "            if li1[i] < li2[0]:\n",
    "                li2.insert(0, li1[i])\n",
    "                len_li2 += 1\n",
    "                break\n",
    "\n",
    "            elif (li1[i] >= li2[j]) and (li1[i] <= li2[j+1]):\n",
    "                li2.insert(j+1, li1[i])\n",
    "                len_li2 +=1 \n",
    "                break\n",
    "\n",
    "\n",
    "        if li1[i] >= li2[len_li2]:\n",
    "            li2.insert(len_li2+1, li1[i])\n",
    "            len_li2 += 1\n",
    "            #break\n"
   ]
  },
  {
   "cell_type": "code",
   "execution_count": 98,
   "id": "e4eaf3d0",
   "metadata": {},
   "outputs": [
    {
     "data": {
      "text/plain": [
       "[0, 1, 1, 2, 2, 2, 3, 3, 4, 5, 5, 6, 7, 8, 8, 9, 10, 12]"
      ]
     },
     "execution_count": 98,
     "metadata": {},
     "output_type": "execute_result"
    }
   ],
   "source": [
    "li2"
   ]
  },
  {
   "cell_type": "markdown",
   "id": "430519d1",
   "metadata": {},
   "source": [
    "### - Given two sorted arrays nums1 and nums2 of size m and n respectively, return the median of the two sorted arrays. The overall run time complexity should be O(log (m+n))."
   ]
  },
  {
   "cell_type": "code",
   "execution_count": 284,
   "id": "1cc7f7aa",
   "metadata": {},
   "outputs": [
    {
     "name": "stdout",
     "output_type": "stream",
     "text": [
      "4.5\n"
     ]
    }
   ],
   "source": [
    "a = [2, 5, 6, 8]\n",
    "b = [1, 3, 4, 7]\n",
    "\n",
    "\n",
    "def cal(a, b):\n",
    "\n",
    "    len_b = len(b)\n",
    "    for i in range(len(a)):\n",
    "        for j in range(len_b-1):\n",
    "            if a[i] <= b[0]:\n",
    "                b.insert(0, a[i])\n",
    "                len_b += 1\n",
    "                break\n",
    "\n",
    "            if (a[i] <= b[j+1]) and (a[i] >= b[j]):\n",
    "                b.insert(j+1, a[i])\n",
    "                len_b += 1\n",
    "                break\n",
    "\n",
    "        if a[i] >= b[len_b-1]:\n",
    "            b.insert(len_b, a[i])\n",
    "            len_b += 1\n",
    "\n",
    "\n",
    "    if len_b%2 == 1:\n",
    "        print((b[len_b//2 - 1] + 1))\n",
    "    else:\n",
    "        print((b[len_b//2 - 1] + b[len_b//2 - 1] + 1) / 2)\n",
    "        \n",
    "cal(a,b)\n"
   ]
  },
  {
   "cell_type": "markdown",
   "id": "e63d6311",
   "metadata": {},
   "source": [
    "### - Given an integer array nums, return all the triplets [nums[i], nums[j], nums[k]] such that i != j, i != k, and j != k, and nums[i] + nums[j] + nums[k] == 0. Notice that the solution set must not contain duplicate triplets."
   ]
  },
  {
   "cell_type": "code",
   "execution_count": 278,
   "id": "c20bed1c",
   "metadata": {},
   "outputs": [
    {
     "name": "stdout",
     "output_type": "stream",
     "text": [
      "[2, 3, 5, 6, 7]\n"
     ]
    }
   ],
   "source": [
    "# remove duplicate elements from list (only unique values) \n",
    "# requirement : list must be sorted\n",
    "\n",
    "a = [3, 2, 3, 5, 6, 7, 5]\n",
    "\n",
    "def unique_sorted_list(l):\n",
    "    l = sorted(l)\n",
    "    i = 0\n",
    "    n = len(l)\n",
    "    while(i < n-1):\n",
    "        if l[i] == l[i+1]:\n",
    "            l.remove(l[i])\n",
    "            i = i - 1\n",
    "            n = n - 1\n",
    "        i = i+1\n",
    "            \n",
    "    return l\n",
    "        \n",
    "print(unique_sorted_list(a))"
   ]
  },
  {
   "cell_type": "code",
   "execution_count": 279,
   "id": "8a644dd8",
   "metadata": {},
   "outputs": [
    {
     "name": "stdout",
     "output_type": "stream",
     "text": [
      "[3, 2, 5, 6, 7]\n"
     ]
    }
   ],
   "source": [
    "# remove duplicate elements from list(only unique values)\n",
    "# list is not sorted\n",
    "def unique_list(l):\n",
    "    i = 0\n",
    "    j = 0\n",
    "    n = len(l)\n",
    "    while(i < n):\n",
    "        j = 0\n",
    "        while(j < n):\n",
    "            if i != j and l[i] == l[j]:\n",
    "                l.pop(j)\n",
    "                j = j-1\n",
    "                n = n-1\n",
    "            \n",
    "            j = j + 1\n",
    "            \n",
    "        i = i+1\n",
    "            \n",
    "    return l\n",
    "\n",
    "a = [3, 2, 3, 5, 6, 7, 5]\n",
    "print(unique_list((a)))"
   ]
  },
  {
   "cell_type": "code",
   "execution_count": 280,
   "id": "992eed69",
   "metadata": {},
   "outputs": [
    {
     "name": "stdout",
     "output_type": "stream",
     "text": [
      "[[2, 1, -1], [3, 4], [5, 2]]\n"
     ]
    }
   ],
   "source": [
    "# remove duplicate elements from list of lists (only unique values)\n",
    "def unique_list_of_lists(l):\n",
    "    i = 0\n",
    "    j = 0\n",
    "    n = len(l)\n",
    "    while(i < n):\n",
    "        j = 0\n",
    "        while(j < n):\n",
    "            if i != j and sorted(l[i]) == sorted(l[j]):\n",
    "                l.pop(j)\n",
    "                j = j-1\n",
    "                n = n-1\n",
    "            \n",
    "            j = j + 1\n",
    "            \n",
    "        i = i+1\n",
    "            \n",
    "    return l\n",
    "\n",
    "b = [[2, 1, -1], [3, 4], [1, 2, -1], [4, 3], [5,2]]\n",
    "print(unique_list_of_lists((b)))"
   ]
  },
  {
   "cell_type": "code",
   "execution_count": 281,
   "id": "59fa9b03",
   "metadata": {},
   "outputs": [
    {
     "data": {
      "text/plain": [
       "[[-1, 0, 1], [-1, 2, -1]]"
      ]
     },
     "execution_count": 281,
     "metadata": {},
     "output_type": "execute_result"
    }
   ],
   "source": [
    "# Our Exercise\n",
    "nums = [-1,0,1,2,-1,-4]\n",
    "\n",
    "new_l = []\n",
    "for i in range(len(nums)):\n",
    "    for j in range(len(nums)):\n",
    "        for k in range(len(nums)):\n",
    "            if i!= j and j!=k and i!=k and nums[i] + nums[j] + nums[k] == 0:\n",
    "                new_l.append([nums[i],nums[j],nums[k]])\n",
    "\n",
    "\n",
    "\n",
    "unique_list_of_lists(new_l)"
   ]
  },
  {
   "cell_type": "markdown",
   "id": "7a99dbf0",
   "metadata": {},
   "source": [
    "### - Given an integer array nums sorted in non-decreasing order, remove the duplicates in-place such that each unique element appears only once. The relative order of the elements should be kept the same."
   ]
  },
  {
   "cell_type": "code",
   "execution_count": null,
   "id": "b70afc96",
   "metadata": {},
   "outputs": [],
   "source": [
    "# nums = [0,0,1,1,1,2,2,3,3,4]\n",
    "# Output: 5, nums = [0,1,2,3,4,_,_,_,_,_]"
   ]
  },
  {
   "cell_type": "code",
   "execution_count": 288,
   "id": "1ff70922",
   "metadata": {},
   "outputs": [
    {
     "data": {
      "text/plain": [
       "(5, [0, 1, 2, 3, 4])"
      ]
     },
     "execution_count": 288,
     "metadata": {},
     "output_type": "execute_result"
    }
   ],
   "source": [
    "nums = [0,0,1,1,1,2,2,3,3,4,4]\n",
    "\n",
    "def fun(nums):\n",
    "    i = 0\n",
    "    n = len(nums)\n",
    "    while i<n-1:\n",
    "        if nums[i] == nums[i+1]:\n",
    "            nums.pop(i)\n",
    "            i = i-1\n",
    "            n = n-1\n",
    "        i = i+1\n",
    "\n",
    "    return len(nums), nums\n",
    "\n",
    "fun(nums)"
   ]
  },
  {
   "cell_type": "markdown",
   "id": "ed135a50",
   "metadata": {},
   "source": [
    "### - Given an integer array nums of length n and an integer target, find three integers in nums such that the sum is closest to target. Return the sum of the three integers. You may assume that each input would have exactly one solution."
   ]
  },
  {
   "cell_type": "code",
   "execution_count": 142,
   "id": "346db16b",
   "metadata": {},
   "outputs": [
    {
     "data": {
      "text/plain": [
       "9"
      ]
     },
     "execution_count": 142,
     "metadata": {},
     "output_type": "execute_result"
    }
   ],
   "source": [
    "nums = [2, 4, 6, 1]\n",
    "\n",
    "def fun(nums, target):\n",
    "    vec = []\n",
    "    for i in range(len(nums)):\n",
    "        for j in range(len(nums)):\n",
    "            for k in range(len(nums)):\n",
    "                if i!=j and i!=k and j!=k:\n",
    "                    vec.append(nums[i] + nums[j] + nums[k])\n",
    "                    \n",
    "    new_vec = [abs(el - target) for el in vec]\n",
    "    return vec[np.argmin(new_vec)]\n",
    "\n",
    "    \n",
    "\n",
    "fun(nums, 10)"
   ]
  },
  {
   "cell_type": "markdown",
   "id": "fa592756",
   "metadata": {},
   "source": [
    "### - Given an array nums of n integers, return an array of all the unique quadruplets [nums[a], nums[b], nums[c], nums[d]] such that:\n",
    "* 0 <= a, b, c, d < n\n",
    "* a, b, c, and d are distinct.\n",
    "* nums[a] + nums[b] + nums[c] + nums[d] == target"
   ]
  },
  {
   "cell_type": "code",
   "execution_count": 283,
   "id": "e61d07ea",
   "metadata": {},
   "outputs": [
    {
     "data": {
      "text/plain": [
       "[[1, 0, -1, 0], [1, -1, -2, 2], [2, 0, 0, -2]]"
      ]
     },
     "execution_count": 283,
     "metadata": {},
     "output_type": "execute_result"
    }
   ],
   "source": [
    "def fun(nums, target):\n",
    "    \n",
    "    vec = []\n",
    "    for i in range(len(nums)):\n",
    "        for j in range(len(nums)):\n",
    "            for k in range(len(nums)):\n",
    "                for p in range(len(nums)):\n",
    "                    if i!=j and i!=k and i!=p and j!=k and j!=p and k!=p and nums[i]>0 and nums[p]<len(nums) and nums[i] + nums[j] + nums[k] + nums[p] == target:\n",
    "                        vec.append([nums[i], nums[j], nums[k], nums[p]])\n",
    "                        \n",
    "    \n",
    "    return unique_list_of_lists(vec)\n",
    "    \n",
    "    \n",
    "fun([1,0,-1,0,-2,2], 0)"
   ]
  },
  {
   "cell_type": "markdown",
   "id": "d415d65f",
   "metadata": {},
   "source": [
    "### -  Given an integer array nums and an integer val, remove all occurrences of val in nums in-place. The relative order of the elements may be changed."
   ]
  },
  {
   "cell_type": "code",
   "execution_count": 291,
   "id": "9f555287",
   "metadata": {},
   "outputs": [
    {
     "data": {
      "text/plain": [
       "(2, [2, 2])"
      ]
     },
     "execution_count": 291,
     "metadata": {},
     "output_type": "execute_result"
    }
   ],
   "source": [
    "\n",
    "def fun(nums, val):\n",
    "    n = len(nums)\n",
    "    i = 0\n",
    "    while i<n:\n",
    "        if nums[i] == val:\n",
    "            nums.pop(i)\n",
    "            i = i-1\n",
    "            n = n-1\n",
    "        i = i+1\n",
    "\n",
    "    return len(nums), nums\n",
    "\n",
    "nums = [3,2,2,3]\n",
    "val = 3\n",
    "fun(nums, val)"
   ]
  },
  {
   "cell_type": "markdown",
   "id": "9326ccdf",
   "metadata": {},
   "source": [
    "### - Given an array of integers nums sorted in non-decreasing order, find the starting and ending position of a given target value."
   ]
  },
  {
   "cell_type": "code",
   "execution_count": 332,
   "id": "6ce08084",
   "metadata": {},
   "outputs": [
    {
     "data": {
      "text/plain": [
       "[3, 4]"
      ]
     },
     "execution_count": 332,
     "metadata": {},
     "output_type": "execute_result"
    }
   ],
   "source": [
    "def fun(nums, target):\n",
    "    \n",
    "    if nums == []:\n",
    "        return [-1, -1]\n",
    "        \n",
    "    start_index = None\n",
    "    end_index = None\n",
    "\n",
    "    for i in range(len(nums)):\n",
    "        if nums[i] == target:\n",
    "            start_index = i\n",
    "            break\n",
    "\n",
    "    for j in range(i+1, len(nums)):\n",
    "        if nums[j] == target:\n",
    "            end_index = j\n",
    "            break\n",
    "    \n",
    "    if start_index is None or end_index is None:\n",
    "        return [-1, -1]\n",
    "    elif start_index is None and end_index is not None:\n",
    "        return [-1, end_index]\n",
    "    elif start_index is not None and end_index is None:\n",
    "        return [start_index, -1]\n",
    "    else:\n",
    "        return [start_index, end_index]\n",
    "    \n",
    "    \n",
    "nums = [5,7,7,8,8,10]\n",
    "target = 8\n",
    "fun(nums, target)"
   ]
  },
  {
   "cell_type": "markdown",
   "id": "b49a6f14",
   "metadata": {},
   "source": [
    "### - Given a sorted array of distinct integers and a target value, return the index if the target is found. If not, return the index where it would be if it were inserted in order. Log(n) Complexity"
   ]
  },
  {
   "cell_type": "code",
   "execution_count": 343,
   "id": "a4994f60",
   "metadata": {},
   "outputs": [
    {
     "data": {
      "text/plain": [
       "4"
      ]
     },
     "execution_count": 343,
     "metadata": {},
     "output_type": "execute_result"
    }
   ],
   "source": [
    "def fun(nums, target):\n",
    "    \n",
    "    index = None\n",
    "    for i in range(len(nums)):\n",
    "        if nums[i] == target:\n",
    "            return i\n",
    "        \n",
    "    if target<=nums[0]:\n",
    "        return 0\n",
    "    for i in range(len(nums)-1):  \n",
    "        if target<=nums[i+1] and target>=nums[i]:\n",
    "            return i+1\n",
    "    \n",
    "    if target>=nums[len(nums)-1]:\n",
    "        return len(nums)\n",
    "        \n",
    "    \n",
    "    \n",
    "nums = [1,3,5,6]\n",
    "target = 7\n",
    "\n",
    "fun(nums, target)"
   ]
  },
  {
   "cell_type": "markdown",
   "id": "b7a757b0",
   "metadata": {},
   "source": [
    "### - Given an array of integers nums and an integer target, return indices of the two numbers such that they add up to target."
   ]
  },
  {
   "cell_type": "code",
   "execution_count": 344,
   "id": "e913417e",
   "metadata": {},
   "outputs": [
    {
     "data": {
      "text/plain": [
       "(0, 1)"
      ]
     },
     "execution_count": 344,
     "metadata": {},
     "output_type": "execute_result"
    }
   ],
   "source": [
    "nums = [2,7,11,15]\n",
    "target = 9\n",
    "\n",
    "def fun(nums, target):\n",
    "    for i in range(len(nums)):\n",
    "        for j in range(len(nums)):\n",
    "            if i!=j and nums[i]+nums[j] == target:\n",
    "                return (i,j)\n",
    "            \n",
    "nums = [2,7,11,15]\n",
    "target = 9\n",
    "fun(nums, target)"
   ]
  },
  {
   "cell_type": "markdown",
   "id": "77c50b97",
   "metadata": {},
   "source": [
    "### - Given an array of distinct integers candidates and a target integer target, return a list of all unique combinations of candidates where the chosen numbers sum to target. You may return the combinations in any order.\n",
    "\n",
    "* The same number may be chosen from candidates an unlimited number of times. Two combinations are unique if the frequency of at least one of the chosen numbers is different.\n",
    "\n",
    "* It is guaranteed that the number of unique combinations that sum up to target is less than 150 combinations for the given input."
   ]
  },
  {
   "cell_type": "code",
   "execution_count": 345,
   "id": "642988ed",
   "metadata": {},
   "outputs": [
    {
     "data": {
      "text/plain": [
       "[(2, 3, 6, 7),\n",
       " (2, 3, 7, 6),\n",
       " (2, 6, 3, 7),\n",
       " (2, 6, 7, 3),\n",
       " (2, 7, 3, 6),\n",
       " (2, 7, 6, 3),\n",
       " (3, 2, 6, 7),\n",
       " (3, 2, 7, 6),\n",
       " (3, 6, 2, 7),\n",
       " (3, 6, 7, 2),\n",
       " (3, 7, 2, 6),\n",
       " (3, 7, 6, 2),\n",
       " (6, 2, 3, 7),\n",
       " (6, 2, 7, 3),\n",
       " (6, 3, 2, 7),\n",
       " (6, 3, 7, 2),\n",
       " (6, 7, 2, 3),\n",
       " (6, 7, 3, 2),\n",
       " (7, 2, 3, 6),\n",
       " (7, 2, 6, 3),\n",
       " (7, 3, 2, 6),\n",
       " (7, 3, 6, 2),\n",
       " (7, 6, 2, 3),\n",
       " (7, 6, 3, 2)]"
      ]
     },
     "execution_count": 345,
     "metadata": {},
     "output_type": "execute_result"
    }
   ],
   "source": [
    "import itertools\n",
    "\n",
    "candidates = [2,3,6,7]\n",
    "target = 7\n",
    "\n",
    "permutations = list(itertools.permutations(candidates))\n",
    "for comb in permutations:\n",
    "    if "
   ]
  },
  {
   "cell_type": "code",
   "execution_count": null,
   "id": "e9061417",
   "metadata": {},
   "outputs": [],
   "source": [
    "Input: candidates = [2,3,6,7], target = 7\n",
    "Output: [[2,2,3],[7]]"
   ]
  }
 ],
 "metadata": {
  "kernelspec": {
   "display_name": "Python 3 (ipykernel)",
   "language": "python",
   "name": "python3"
  },
  "language_info": {
   "codemirror_mode": {
    "name": "ipython",
    "version": 3
   },
   "file_extension": ".py",
   "mimetype": "text/x-python",
   "name": "python",
   "nbconvert_exporter": "python",
   "pygments_lexer": "ipython3",
   "version": "3.9.7"
  }
 },
 "nbformat": 4,
 "nbformat_minor": 5
}
