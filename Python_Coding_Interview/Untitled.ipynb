{
 "cells": [
  {
   "cell_type": "markdown",
   "id": "b4554751",
   "metadata": {},
   "source": [
    "### Print all prime numbers"
   ]
  },
  {
   "cell_type": "code",
   "execution_count": 1,
   "id": "24788729",
   "metadata": {},
   "outputs": [
    {
     "name": "stdout",
     "output_type": "stream",
     "text": [
      "101\n",
      "103\n",
      "107\n",
      "109\n",
      "113\n",
      "127\n",
      "131\n",
      "137\n",
      "139\n",
      "149\n",
      "151\n",
      "157\n",
      "163\n",
      "167\n",
      "173\n",
      "179\n",
      "181\n",
      "191\n",
      "193\n",
      "197\n",
      "199\n"
     ]
    }
   ],
   "source": [
    "for n in range(100, 200):\n",
    "    if all([n%i != 0 for i in range(2, n)]):\n",
    "        print(n)"
   ]
  },
  {
   "cell_type": "markdown",
   "id": "24a53822",
   "metadata": {},
   "source": [
    "### - Print Fibonacci Serie"
   ]
  },
  {
   "cell_type": "code",
   "execution_count": 2,
   "id": "21c3eb19",
   "metadata": {},
   "outputs": [
    {
     "name": "stdout",
     "output_type": "stream",
     "text": [
      "0\n",
      "1\n",
      "1\n",
      "2\n",
      "3\n",
      "5\n",
      "8\n",
      "13\n",
      "21\n",
      "34\n"
     ]
    }
   ],
   "source": [
    "a = 0\n",
    "b = 1\n",
    "n=10\n",
    "\n",
    "print(a)\n",
    "print(b)\n",
    "\n",
    "\n",
    "for i in range(n-2):\n",
    "    s = a + b # s=3\n",
    "    a = b # a=2\n",
    "    b = s # b=3\n",
    "    print(s)"
   ]
  }
 ],
 "metadata": {
  "kernelspec": {
   "display_name": "Python 3 (ipykernel)",
   "language": "python",
   "name": "python3"
  },
  "language_info": {
   "codemirror_mode": {
    "name": "ipython",
    "version": 3
   },
   "file_extension": ".py",
   "mimetype": "text/x-python",
   "name": "python",
   "nbconvert_exporter": "python",
   "pygments_lexer": "ipython3",
   "version": "3.9.7"
  }
 },
 "nbformat": 4,
 "nbformat_minor": 5
}
