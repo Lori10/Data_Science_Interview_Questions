{
 "cells": [
  {
   "cell_type": "markdown",
   "id": "1150d54a",
   "metadata": {},
   "source": [
    "### - Check whether string is palindrome"
   ]
  },
  {
   "cell_type": "code",
   "execution_count": 1,
   "id": "bb8132a6",
   "metadata": {},
   "outputs": [
    {
     "data": {
      "text/plain": [
       "True"
      ]
     },
     "execution_count": 1,
     "metadata": {},
     "output_type": "execute_result"
    }
   ],
   "source": [
    "string = 'radar'\n",
    "\n",
    "i = 0\n",
    "j = len(string)-1\n",
    "\n",
    "res = []\n",
    "for i in range(len(string)//2):\n",
    "    res.append(string[i] == string[j])\n",
    "    j = j - 1\n",
    "\n",
    "all(res)"
   ]
  },
  {
   "cell_type": "markdown",
   "id": "62611d5b",
   "metadata": {},
   "source": [
    "### - Write a program in python to determine the TF (term_frequency) values/words for each term of this document (string)."
   ]
  },
  {
   "cell_type": "code",
   "execution_count": 12,
   "id": "33a79b5f",
   "metadata": {},
   "outputs": [
    {
     "name": "stdout",
     "output_type": "stream",
     "text": [
      "{'I': 0.11, 'have': 0.11, 'a': 0.22, 'nice': 0.22, 'car': 0.11, 'with': 0.11, 'tires': 0.11}\n"
     ]
    }
   ],
   "source": [
    "# using built in function count\n",
    "sentence = \"I have a nice car with a nice tires\"\n",
    "dic = {}\n",
    "vec = sentence.split()\n",
    "\n",
    "for i in vec:\n",
    "    count_i = vec.count(i)\n",
    "    dic[i] = round(count_i / len(vec), 2)\n",
    "    \n",
    "print(dic)"
   ]
  },
  {
   "cell_type": "code",
   "execution_count": 13,
   "id": "ded35447",
   "metadata": {},
   "outputs": [
    {
     "data": {
      "text/plain": [
       "{'I': 0.11,\n",
       " 'have': 0.11,\n",
       " 'a': 0.22,\n",
       " 'nice': 0.22,\n",
       " 'car': 0.11,\n",
       " 'with': 0.11,\n",
       " 'tires': 0.11}"
      ]
     },
     "execution_count": 13,
     "metadata": {},
     "output_type": "execute_result"
    }
   ],
   "source": [
    "# without using built in function\n",
    "\n",
    "sentence = \"I have a nice car with a nice tires\"\n",
    "dic = {}\n",
    "vec = sentence.split()\n",
    "\n",
    "for i in vec:\n",
    "    c = 0\n",
    "    for j in vec:\n",
    "        if i == j:\n",
    "            c += 1\n",
    "    dic[i] = round(c / len(vec), 2)\n",
    "    \n",
    "dic"
   ]
  },
  {
   "cell_type": "markdown",
   "id": "37b33bce",
   "metadata": {},
   "source": [
    "### - Given a string n, a multi-digit number, write a function rearranging_digits to return a string of the smallest number larger than n that can be created by rearranging the digits in n. Return None if no such number exists."
   ]
  },
  {
   "cell_type": "code",
   "execution_count": 30,
   "id": "f04e7d81",
   "metadata": {},
   "outputs": [
    {
     "name": "stdout",
     "output_type": "stream",
     "text": [
      "()\n",
      "(1,)\n",
      "(2,)\n",
      "(3,)\n",
      "(1, 2)\n",
      "(1, 3)\n",
      "(2, 3)\n",
      "(1, 2, 3)\n"
     ]
    }
   ],
   "source": [
    "# find all combinations of elements in a python list\n",
    "import itertools\n",
    "\n",
    "stuff = [1, 2, 3]\n",
    "for L in range(0, len(stuff)+1):\n",
    "    for subset in itertools.combinations(stuff, L):\n",
    "        print(subset)"
   ]
  },
  {
   "cell_type": "code",
   "execution_count": 40,
   "id": "3dd3c946",
   "metadata": {},
   "outputs": [
    {
     "data": {
      "text/plain": [
       "[(1, 2, 3), (1, 3, 2), (2, 1, 3), (2, 3, 1), (3, 1, 2), (3, 2, 1)]"
      ]
     },
     "execution_count": 40,
     "metadata": {},
     "output_type": "execute_result"
    }
   ],
   "source": [
    "# find all permutations of elements in a python list\n",
    "import itertools\n",
    "list(itertools.permutations([1, 2, 3]))"
   ]
  },
  {
   "cell_type": "code",
   "execution_count": 55,
   "id": "e1df4950",
   "metadata": {},
   "outputs": [
    {
     "data": {
      "text/plain": [
       "3915"
      ]
     },
     "execution_count": 55,
     "metadata": {},
     "output_type": "execute_result"
    }
   ],
   "source": [
    "def rearranging_digits(n):\n",
    "    \n",
    "    # find all permutations of n (as string)\n",
    "    li = [i for i in n]\n",
    "    all_permutations_string = list(itertools.permutations(li))\n",
    "\n",
    "    # find all permutations of n (as numbers int)\n",
    "    all_permutation_nr = []\n",
    "    for el in all_permutations_string:\n",
    "        index = len(el) - 1\n",
    "        nr = 0\n",
    "        for i in el:\n",
    "            nr += int(i) * pow(10, index)\n",
    "            index -= 1\n",
    "        \n",
    "        all_permutation_nr.append(nr)\n",
    "                \n",
    "    all_permutation_nr_filter = []\n",
    "    for el in all_permutation_nr:\n",
    "        if el > int(n):\n",
    "            all_permutation_nr_filter.append(el)\n",
    "            \n",
    "    \n",
    "    \n",
    "    # find the minimum of perm elements greater than n\n",
    "    mini = all_permutation_nr_filter[0]\n",
    "    for i in all_permutation_nr_filter:\n",
    "        if i < mini:\n",
    "            mini = i\n",
    "    \n",
    "    return mini\n",
    "\n",
    "\n",
    "n = '3591'\n",
    "rearranging_digits(n)\n",
    "\n"
   ]
  },
  {
   "cell_type": "code",
   "execution_count": null,
   "id": "a8b003ac",
   "metadata": {},
   "outputs": [],
   "source": []
  },
  {
   "cell_type": "code",
   "execution_count": null,
   "id": "688651e1",
   "metadata": {},
   "outputs": [],
   "source": []
  }
 ],
 "metadata": {
  "kernelspec": {
   "display_name": "Python 3 (ipykernel)",
   "language": "python",
   "name": "python3"
  },
  "language_info": {
   "codemirror_mode": {
    "name": "ipython",
    "version": 3
   },
   "file_extension": ".py",
   "mimetype": "text/x-python",
   "name": "python",
   "nbconvert_exporter": "python",
   "pygments_lexer": "ipython3",
   "version": "3.9.7"
  }
 },
 "nbformat": 4,
 "nbformat_minor": 5
}
